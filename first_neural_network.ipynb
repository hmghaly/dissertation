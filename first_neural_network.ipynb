{
 "cells": [
  {
   "cell_type": "code",
   "execution_count": 6,
   "metadata": {
    "collapsed": true
   },
   "outputs": [],
   "source": [
    "import torch\n",
    "import torch.nn as nn\n",
    "\n",
    "class RNN(nn.Module):\n",
    "    def __init__(self, input_size, hidden_size, output_size):\n",
    "        super(RNN, self).__init__()\n",
    "\n",
    "        self.hidden_size = hidden_size\n",
    "\n",
    "        self.i2h = nn.Linear(input_size + hidden_size, hidden_size)\n",
    "        self.i2o = nn.Linear(input_size + hidden_size, output_size)\n",
    "        self.softmax = nn.LogSoftmax(dim=1)\n",
    "\n",
    "    def forward(self, input, hidden):\n",
    "        combined = torch.cat((input, hidden), 1)\n",
    "        hidden = self.i2h(combined)\n",
    "        output = self.i2o(combined)\n",
    "        output = self.softmax(output)\n",
    "        return output, hidden\n",
    "\n",
    "    def initHidden(self):\n",
    "        return torch.zeros(1, self.hidden_size)\n",
    "\n"
   ]
  },
  {
   "cell_type": "code",
   "execution_count": 7,
   "metadata": {},
   "outputs": [
    {
     "name": "stdout",
     "output_type": "stream",
     "text": [
      "[[1, 2, 5], [1, 3, 4]] tensor([[[1., 2., 5.]],\n",
      "\n",
      "        [[1., 3., 4.]]])\n"
     ]
    }
   ],
   "source": [
    "criterion = nn.NLLLoss()\n",
    "learning_rate = 0.005 # If you set this too high, it might explode. If too low, it might not learn\n",
    "\n",
    "def v2t(vec): #build a tensor form a 2-d list\n",
    "    tensor = torch.zeros(len(vec), 1, len(vec[0]))\n",
    "    for vi, v1 in enumerate(vec):\n",
    "        tensor[vi][0]=torch.tensor(v1)\n",
    "    return tensor\n",
    "\n",
    "cur_vec=[[1,2,5],[1,3,4]]\n",
    "print (cur_vec, v2t(cur_vec))\n",
    "\n",
    "def train(category_tensor, line_tensor):\n",
    "    hidden = rnn.initHidden()\n",
    "\n",
    "    rnn.zero_grad()\n",
    "\n",
    "    for i in range(line_tensor.size()[0]):\n",
    "        output, hidden = rnn(line_tensor[i], hidden)\n",
    "    \n",
    "    #print(output,category_tensor)\n",
    "    loss = criterion(output, category_tensor)\n",
    "    loss.backward()\n",
    "\n",
    "    # Add parameters' gradients to their values, multiplied by learning rate\n",
    "    for p in rnn.parameters():\n",
    "        p.data.add_(-learning_rate, p.grad.data)\n",
    "\n",
    "    return output, loss.item()"
   ]
  },
  {
   "cell_type": "code",
   "execution_count": 9,
   "metadata": {},
   "outputs": [
    {
     "name": "stdout",
     "output_type": "stream",
     "text": [
      "tensor([[-4.8270, -0.0080]], grad_fn=<LogSoftmaxBackward>) tensor([1])\n",
      "tensor([[-0.0201, -3.9186]], grad_fn=<LogSoftmaxBackward>) tensor([0])\n",
      "tensor([[-8.7334e+00, -1.6117e-04]], grad_fn=<LogSoftmaxBackward>) tensor([1])\n",
      "tensor([[-0.0214, -3.8551]], grad_fn=<LogSoftmaxBackward>) tensor([0])\n",
      "tensor([[-4.4021, -0.0123]], grad_fn=<LogSoftmaxBackward>) tensor([1])\n",
      "tensor([[-2.0695e-03, -6.1815e+00]], grad_fn=<LogSoftmaxBackward>) tensor([0])\n",
      "tensor([[-4.8281, -0.0080]], grad_fn=<LogSoftmaxBackward>) tensor([1])\n",
      "tensor([[-0.0200, -3.9197]], grad_fn=<LogSoftmaxBackward>) tensor([0])\n",
      "tensor([[-8.7354e+00, -1.6069e-04]], grad_fn=<LogSoftmaxBackward>) tensor([1])\n",
      "tensor([[-0.0214, -3.8562]], grad_fn=<LogSoftmaxBackward>) tensor([0])\n",
      "tensor([[-4.4032, -0.0123]], grad_fn=<LogSoftmaxBackward>) tensor([1])\n",
      "tensor([[-2.0652e-03, -6.1836e+00]], grad_fn=<LogSoftmaxBackward>) tensor([0])\n",
      "tensor([[-4.8292, -0.0080]], grad_fn=<LogSoftmaxBackward>) tensor([1])\n",
      "tensor([[-0.0200, -3.9207]], grad_fn=<LogSoftmaxBackward>) tensor([0])\n",
      "tensor([[-8.7373e+00, -1.6022e-04]], grad_fn=<LogSoftmaxBackward>) tensor([1])\n",
      "tensor([[-0.0213, -3.8574]], grad_fn=<LogSoftmaxBackward>) tensor([0])\n",
      "tensor([[-4.4043, -0.0123]], grad_fn=<LogSoftmaxBackward>) tensor([1])\n",
      "tensor([[-2.0607e-03, -6.1857e+00]], grad_fn=<LogSoftmaxBackward>) tensor([0])\n",
      "tensor([[-4.8302, -0.0080]], grad_fn=<LogSoftmaxBackward>) tensor([1])\n",
      "tensor([[-0.0200, -3.9218]], grad_fn=<LogSoftmaxBackward>) tensor([0])\n",
      "tensor([[-8.7392e+00, -1.6022e-04]], grad_fn=<LogSoftmaxBackward>) tensor([1])\n",
      "tensor([[-0.0213, -3.8585]], grad_fn=<LogSoftmaxBackward>) tensor([0])\n",
      "tensor([[-4.4055, -0.0123]], grad_fn=<LogSoftmaxBackward>) tensor([1])\n",
      "tensor([[-2.0564e-03, -6.1879e+00]], grad_fn=<LogSoftmaxBackward>) tensor([0])\n",
      "tensor([[-4.8313, -0.0080]], grad_fn=<LogSoftmaxBackward>) tensor([1])\n",
      "tensor([[-0.0200, -3.9228]], grad_fn=<LogSoftmaxBackward>) tensor([0])\n",
      "tensor([[-8.7412e+00, -1.5974e-04]], grad_fn=<LogSoftmaxBackward>) tensor([1])\n",
      "tensor([[-0.0213, -3.8597]], grad_fn=<LogSoftmaxBackward>) tensor([0])\n",
      "tensor([[-4.4066, -0.0123]], grad_fn=<LogSoftmaxBackward>) tensor([1])\n",
      "tensor([[-2.0518e-03, -6.1900e+00]], grad_fn=<LogSoftmaxBackward>) tensor([0])\n",
      "tensor([[-4.8324, -0.0080]], grad_fn=<LogSoftmaxBackward>) tensor([1])\n",
      "tensor([[-0.0200, -3.9239]], grad_fn=<LogSoftmaxBackward>) tensor([0])\n",
      "tensor([[-8.7431e+00, -1.5974e-04]], grad_fn=<LogSoftmaxBackward>) tensor([1])\n",
      "tensor([[-0.0213, -3.8608]], grad_fn=<LogSoftmaxBackward>) tensor([0])\n",
      "tensor([[-4.4077, -0.0123]], grad_fn=<LogSoftmaxBackward>) tensor([1])\n",
      "tensor([[-2.0475e-03, -6.1921e+00]], grad_fn=<LogSoftmaxBackward>) tensor([0])\n",
      "tensor([[-4.8335, -0.0080]], grad_fn=<LogSoftmaxBackward>) tensor([1])\n",
      "tensor([[-0.0199, -3.9249]], grad_fn=<LogSoftmaxBackward>) tensor([0])\n",
      "tensor([[-8.7450e+00, -1.5926e-04]], grad_fn=<LogSoftmaxBackward>) tensor([1])\n",
      "tensor([[-0.0213, -3.8619]], grad_fn=<LogSoftmaxBackward>) tensor([0])\n",
      "tensor([[-4.4089, -0.0122]], grad_fn=<LogSoftmaxBackward>) tensor([1])\n",
      "tensor([[-2.0432e-03, -6.1943e+00]], grad_fn=<LogSoftmaxBackward>) tensor([0])\n",
      "tensor([[-4.8345, -0.0080]], grad_fn=<LogSoftmaxBackward>) tensor([1])\n",
      "tensor([[-0.0199, -3.9260]], grad_fn=<LogSoftmaxBackward>) tensor([0])\n",
      "tensor([[-8.7470e+00, -1.5879e-04]], grad_fn=<LogSoftmaxBackward>) tensor([1])\n",
      "tensor([[-0.0212, -3.8631]], grad_fn=<LogSoftmaxBackward>) tensor([0])\n",
      "tensor([[-4.4100, -0.0122]], grad_fn=<LogSoftmaxBackward>) tensor([1])\n",
      "tensor([[-2.0390e-03, -6.1964e+00]], grad_fn=<LogSoftmaxBackward>) tensor([0])\n",
      "tensor([[-4.8356, -0.0080]], grad_fn=<LogSoftmaxBackward>) tensor([1])\n",
      "tensor([[-0.0199, -3.9270]], grad_fn=<LogSoftmaxBackward>) tensor([0])\n",
      "tensor([[-8.7489e+00, -1.5879e-04]], grad_fn=<LogSoftmaxBackward>) tensor([1])\n",
      "tensor([[-0.0212, -3.8642]], grad_fn=<LogSoftmaxBackward>) tensor([0])\n",
      "tensor([[-4.4111, -0.0122]], grad_fn=<LogSoftmaxBackward>) tensor([1])\n",
      "tensor([[-2.0344e-03, -6.1985e+00]], grad_fn=<LogSoftmaxBackward>) tensor([0])\n"
     ]
    }
   ],
   "source": [
    "#start defining the network\n",
    "n_hidden = 128\n",
    "n_input=3\n",
    "rnn = RNN(n_input, n_hidden, 2)\n",
    "# Keep track of losses for plotting\n",
    "current_loss = 0\n",
    "all_losses = []\n",
    "\n",
    "vector1=[[1,3,4],[2,5,7]]\n",
    "#vector1=[[0,0,0]]\n",
    "vector2=[[1,2,2],[3,1,2]]\n",
    "vector3=[[3,3,4],[2,1,3],[4,7,5]]\n",
    "vector4=[[1,2,2],[1,1,2]]\n",
    "vector5=[[3,4,5],[6,5,2]]\n",
    "vector6=[[1,1,1],[1,2,1],[2,1,1]]\n",
    "all_vectors=[vector1,vector2,vector3,vector4,vector5,vector6]\n",
    "\n",
    "    \n",
    "for i in range(1000):\n",
    "    for vec in all_vectors:\n",
    "        ten=v2t(vec)\n",
    "        line_tensor=ten\n",
    "        mean=ten.mean()\n",
    "        val=0\n",
    "        if mean>3:val=1\n",
    "        category_tensor=torch.tensor([val])\n",
    "        \n",
    "        #print( vec, mean,val)\n",
    "        output, loss = train(category_tensor, line_tensor)\n",
    "        current_loss += loss    \n",
    "        if i>990: print(output,category_tensor)\n",
    "        \n",
    "    "
   ]
  },
  {
   "cell_type": "code",
   "execution_count": null,
   "metadata": {
    "collapsed": true
   },
   "outputs": [],
   "source": []
  }
 ],
 "metadata": {
  "kernelspec": {
   "display_name": "Python 3",
   "language": "python",
   "name": "python3"
  },
  "language_info": {
   "codemirror_mode": {
    "name": "ipython",
    "version": 3
   },
   "file_extension": ".py",
   "mimetype": "text/x-python",
   "name": "python",
   "nbconvert_exporter": "python",
   "pygments_lexer": "ipython3",
   "version": "3.6.8"
  }
 },
 "nbformat": 4,
 "nbformat_minor": 2
}
